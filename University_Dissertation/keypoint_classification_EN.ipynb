{
  "cells": [
    {
      "cell_type": "code",
      "execution_count": 23,
      "metadata": {
        "id": "igMyGnjE9hEp"
      },
      "outputs": [],
      "source": [
        "import csv\n",
        "\n",
        "import numpy as np\n",
        "import tensorflow as tf\n",
        "from sklearn.model_selection import train_test_split\n",
        "\n",
        "RANDOM_SEED = 42"
      ]
    },
    {
      "attachments": {},
      "cell_type": "markdown",
      "metadata": {
        "id": "t2HDvhIu9hEr"
      },
      "source": [
        "# Specify each path"
      ]
    },
    {
      "cell_type": "code",
      "execution_count": 24,
      "metadata": {
        "id": "9NvZP2Zn9hEy"
      },
      "outputs": [],
      "source": [
        "dataset = 'model/keypoint_classifier/keypoint.csv'\n",
        "model_save_path = 'model/keypoint_classifier/keypoint_classifier.hdf5'\n",
        "tflite_save_path = 'model/keypoint_classifier/keypoint_classifier.tflite'"
      ]
    },
    {
      "attachments": {},
      "cell_type": "markdown",
      "metadata": {
        "id": "s5oMH7x19hEz"
      },
      "source": [
        "# Set number of classes"
      ]
    },
    {
      "cell_type": "code",
      "execution_count": 25,
      "metadata": {
        "id": "du4kodXL9hEz"
      },
      "outputs": [],
      "source": [
        "NUM_CLASSES = 7"
      ]
    },
    {
      "attachments": {},
      "cell_type": "markdown",
      "metadata": {
        "id": "XjnL0uso9hEz"
      },
      "source": [
        "# Dataset reading"
      ]
    },
    {
      "cell_type": "code",
      "execution_count": 26,
      "metadata": {
        "id": "QT5ZqtEz9hE0"
      },
      "outputs": [],
      "source": [
        "X_dataset = np.loadtxt(dataset, delimiter=',', dtype='float32', usecols=list(range(1, (21 * 2) + 1)))"
      ]
    },
    {
      "cell_type": "code",
      "execution_count": 27,
      "metadata": {
        "id": "QmoKFsp49hE0"
      },
      "outputs": [],
      "source": [
        "y_dataset = np.loadtxt(dataset, delimiter=',', dtype='int32', usecols=(0))"
      ]
    },
    {
      "cell_type": "code",
      "execution_count": 28,
      "metadata": {
        "id": "xQU7JTZ_9hE0"
      },
      "outputs": [],
      "source": [
        "X_train, X_test, y_train, y_test = train_test_split(X_dataset, y_dataset, train_size=0.75, random_state=RANDOM_SEED)"
      ]
    },
    {
      "attachments": {},
      "cell_type": "markdown",
      "metadata": {
        "id": "mxK_lETT9hE0"
      },
      "source": [
        "# Model building"
      ]
    },
    {
      "cell_type": "code",
      "execution_count": 29,
      "metadata": {
        "id": "vHBmUf1t9hE1"
      },
      "outputs": [],
      "source": [
        "model = tf.keras.models.Sequential([\n",
        "    tf.keras.layers.Input((21 * 2, )),\n",
        "    tf.keras.layers.Dropout(0.2),\n",
        "    tf.keras.layers.Dense(20, activation='relu'),\n",
        "    tf.keras.layers.Dropout(0.4),\n",
        "    tf.keras.layers.Dense(10, activation='relu'),\n",
        "    tf.keras.layers.Dense(NUM_CLASSES, activation='softmax')\n",
        "])"
      ]
    },
    {
      "cell_type": "code",
      "execution_count": 30,
      "metadata": {
        "colab": {
          "base_uri": "https://localhost:8080/"
        },
        "id": "ypqky9tc9hE1",
        "outputId": "5db082bb-30e3-4110-bf63-a1ee777ecd46"
      },
      "outputs": [
        {
          "name": "stdout",
          "output_type": "stream",
          "text": [
            "Model: \"sequential_1\"\n",
            "_________________________________________________________________\n",
            " Layer (type)                Output Shape              Param #   \n",
            "=================================================================\n",
            " dropout_2 (Dropout)         (None, 42)                0         \n",
            "                                                                 \n",
            " dense_3 (Dense)             (None, 20)                860       \n",
            "                                                                 \n",
            " dropout_3 (Dropout)         (None, 20)                0         \n",
            "                                                                 \n",
            " dense_4 (Dense)             (None, 10)                210       \n",
            "                                                                 \n",
            " dense_5 (Dense)             (None, 7)                 77        \n",
            "                                                                 \n",
            "=================================================================\n",
            "Total params: 1,147\n",
            "Trainable params: 1,147\n",
            "Non-trainable params: 0\n",
            "_________________________________________________________________\n"
          ]
        }
      ],
      "source": [
        "model.summary()  # tf.keras.utils.plot_model(model, show_shapes=True)"
      ]
    },
    {
      "cell_type": "code",
      "execution_count": 31,
      "metadata": {
        "id": "MbMjOflQ9hE1"
      },
      "outputs": [],
      "source": [
        "# Model checkpoint callback\n",
        "cp_callback = tf.keras.callbacks.ModelCheckpoint(\n",
        "    model_save_path, verbose=1, save_weights_only=False)\n",
        "# Callback for early stopping\n",
        "es_callback = tf.keras.callbacks.EarlyStopping(patience=20, verbose=1)"
      ]
    },
    {
      "cell_type": "code",
      "execution_count": 32,
      "metadata": {
        "id": "c3Dac0M_9hE2"
      },
      "outputs": [],
      "source": [
        "# Model compilation\n",
        "model.compile(\n",
        "    optimizer='adam',\n",
        "    loss='sparse_categorical_crossentropy',\n",
        "    metrics=['accuracy']\n",
        ")"
      ]
    },
    {
      "attachments": {},
      "cell_type": "markdown",
      "metadata": {
        "id": "7XI0j1Iu9hE2"
      },
      "source": [
        "# Model training"
      ]
    },
    {
      "cell_type": "code",
      "execution_count": 33,
      "metadata": {
        "colab": {
          "base_uri": "https://localhost:8080/"
        },
        "id": "WirBl-JE9hE3",
        "outputId": "71b30ca2-8294-4d9d-8aa2-800d90d399de",
        "scrolled": true
      },
      "outputs": [
        {
          "name": "stdout",
          "output_type": "stream",
          "text": [
            "Epoch 1/1000\n",
            " 1/34 [..............................] - ETA: 19s - loss: 1.9672 - accuracy: 0.1484\n",
            "Epoch 1: saving model to model/keypoint_classifier\\keypoint_classifier.hdf5\n",
            "34/34 [==============================] - 1s 7ms/step - loss: 1.8970 - accuracy: 0.2457 - val_loss: 1.8280 - val_accuracy: 0.3386\n",
            "Epoch 2/1000\n",
            " 1/34 [..............................] - ETA: 0s - loss: 1.8442 - accuracy: 0.2734\n",
            "Epoch 2: saving model to model/keypoint_classifier\\keypoint_classifier.hdf5\n",
            "34/34 [==============================] - 0s 3ms/step - loss: 1.7935 - accuracy: 0.3140 - val_loss: 1.7226 - val_accuracy: 0.3779\n",
            "Epoch 3/1000\n",
            "26/34 [=====================>........] - ETA: 0s - loss: 1.7043 - accuracy: 0.3380\n",
            "Epoch 3: saving model to model/keypoint_classifier\\keypoint_classifier.hdf5\n",
            "34/34 [==============================] - 0s 4ms/step - loss: 1.6920 - accuracy: 0.3423 - val_loss: 1.6125 - val_accuracy: 0.3993\n",
            "Epoch 4/1000\n",
            " 1/34 [..............................] - ETA: 0s - loss: 1.6546 - accuracy: 0.3281\n",
            "Epoch 4: saving model to model/keypoint_classifier\\keypoint_classifier.hdf5\n",
            "34/34 [==============================] - 0s 3ms/step - loss: 1.5867 - accuracy: 0.3733 - val_loss: 1.4921 - val_accuracy: 0.4455\n",
            "Epoch 5/1000\n",
            " 1/34 [..............................] - ETA: 0s - loss: 1.5644 - accuracy: 0.2734\n",
            "Epoch 5: saving model to model/keypoint_classifier\\keypoint_classifier.hdf5\n",
            "34/34 [==============================] - 0s 3ms/step - loss: 1.5070 - accuracy: 0.3924 - val_loss: 1.3874 - val_accuracy: 0.5021\n",
            "Epoch 6/1000\n",
            "34/34 [==============================] - ETA: 0s - loss: 1.4424 - accuracy: 0.4280\n",
            "Epoch 6: saving model to model/keypoint_classifier\\keypoint_classifier.hdf5\n",
            "34/34 [==============================] - 0s 3ms/step - loss: 1.4424 - accuracy: 0.4280 - val_loss: 1.3042 - val_accuracy: 0.5566\n",
            "Epoch 7/1000\n",
            "33/34 [============================>.] - ETA: 0s - loss: 1.3860 - accuracy: 0.4448\n",
            "Epoch 7: saving model to model/keypoint_classifier\\keypoint_classifier.hdf5\n",
            "34/34 [==============================] - 0s 3ms/step - loss: 1.3816 - accuracy: 0.4478 - val_loss: 1.2314 - val_accuracy: 0.5979\n",
            "Epoch 8/1000\n",
            "32/34 [===========================>..] - ETA: 0s - loss: 1.3387 - accuracy: 0.4656\n",
            "Epoch 8: saving model to model/keypoint_classifier\\keypoint_classifier.hdf5\n",
            "34/34 [==============================] - 0s 3ms/step - loss: 1.3368 - accuracy: 0.4669 - val_loss: 1.1668 - val_accuracy: 0.6248\n",
            "Epoch 9/1000\n",
            "33/34 [============================>.] - ETA: 0s - loss: 1.2997 - accuracy: 0.4811\n",
            "Epoch 9: saving model to model/keypoint_classifier\\keypoint_classifier.hdf5\n",
            "34/34 [==============================] - 0s 3ms/step - loss: 1.2989 - accuracy: 0.4821 - val_loss: 1.1137 - val_accuracy: 0.6324\n",
            "Epoch 10/1000\n",
            " 1/34 [..............................] - ETA: 0s - loss: 1.3110 - accuracy: 0.5469\n",
            "Epoch 10: saving model to model/keypoint_classifier\\keypoint_classifier.hdf5\n",
            "34/34 [==============================] - 0s 3ms/step - loss: 1.2647 - accuracy: 0.5030 - val_loss: 1.0674 - val_accuracy: 0.6469\n",
            "Epoch 11/1000\n",
            "33/34 [============================>.] - ETA: 0s - loss: 1.2221 - accuracy: 0.5178\n",
            "Epoch 11: saving model to model/keypoint_classifier\\keypoint_classifier.hdf5\n",
            "34/34 [==============================] - 0s 3ms/step - loss: 1.2279 - accuracy: 0.5152 - val_loss: 1.0163 - val_accuracy: 0.6634\n",
            "Epoch 12/1000\n",
            "32/34 [===========================>..] - ETA: 0s - loss: 1.2166 - accuracy: 0.5244\n",
            "Epoch 12: saving model to model/keypoint_classifier\\keypoint_classifier.hdf5\n",
            "34/34 [==============================] - 0s 3ms/step - loss: 1.2139 - accuracy: 0.5248 - val_loss: 0.9838 - val_accuracy: 0.6752\n",
            "Epoch 13/1000\n",
            "31/34 [==========================>...] - ETA: 0s - loss: 1.1814 - accuracy: 0.5217\n",
            "Epoch 13: saving model to model/keypoint_classifier\\keypoint_classifier.hdf5\n",
            "34/34 [==============================] - 0s 3ms/step - loss: 1.1795 - accuracy: 0.5237 - val_loss: 0.9493 - val_accuracy: 0.6807\n",
            "Epoch 14/1000\n",
            "34/34 [==============================] - ETA: 0s - loss: 1.1495 - accuracy: 0.5508\n",
            "Epoch 14: saving model to model/keypoint_classifier\\keypoint_classifier.hdf5\n",
            "34/34 [==============================] - 0s 3ms/step - loss: 1.1495 - accuracy: 0.5508 - val_loss: 0.9171 - val_accuracy: 0.6986\n",
            "Epoch 15/1000\n",
            " 1/34 [..............................] - ETA: 0s - loss: 1.2157 - accuracy: 0.5469\n",
            "Epoch 15: saving model to model/keypoint_classifier\\keypoint_classifier.hdf5\n",
            "34/34 [==============================] - 0s 3ms/step - loss: 1.1249 - accuracy: 0.5547 - val_loss: 0.8909 - val_accuracy: 0.6910\n",
            "Epoch 16/1000\n",
            " 1/34 [..............................] - ETA: 0s - loss: 1.1154 - accuracy: 0.5078\n",
            "Epoch 16: saving model to model/keypoint_classifier\\keypoint_classifier.hdf5\n",
            "34/34 [==============================] - 0s 3ms/step - loss: 1.1273 - accuracy: 0.5536 - val_loss: 0.8682 - val_accuracy: 0.7200\n",
            "Epoch 17/1000\n",
            " 1/34 [..............................] - ETA: 0s - loss: 1.1459 - accuracy: 0.5391\n",
            "Epoch 17: saving model to model/keypoint_classifier\\keypoint_classifier.hdf5\n",
            "34/34 [==============================] - 0s 3ms/step - loss: 1.0925 - accuracy: 0.5602 - val_loss: 0.8404 - val_accuracy: 0.7159\n",
            "Epoch 18/1000\n",
            " 1/34 [..............................] - ETA: 0s - loss: 1.1298 - accuracy: 0.5938\n",
            "Epoch 18: saving model to model/keypoint_classifier\\keypoint_classifier.hdf5\n",
            "34/34 [==============================] - 0s 3ms/step - loss: 1.0686 - accuracy: 0.5745 - val_loss: 0.8133 - val_accuracy: 0.7317\n",
            "Epoch 19/1000\n",
            " 1/34 [..............................] - ETA: 0s - loss: 1.0372 - accuracy: 0.5234\n",
            "Epoch 19: saving model to model/keypoint_classifier\\keypoint_classifier.hdf5\n",
            "34/34 [==============================] - 0s 3ms/step - loss: 1.0745 - accuracy: 0.5740 - val_loss: 0.7979 - val_accuracy: 0.7586\n",
            "Epoch 20/1000\n",
            " 1/34 [..............................] - ETA: 0s - loss: 1.0711 - accuracy: 0.5859\n",
            "Epoch 20: saving model to model/keypoint_classifier\\keypoint_classifier.hdf5\n",
            "34/34 [==============================] - 0s 3ms/step - loss: 1.0511 - accuracy: 0.5929 - val_loss: 0.7727 - val_accuracy: 0.7890\n",
            "Epoch 21/1000\n",
            " 1/34 [..............................] - ETA: 0s - loss: 1.0007 - accuracy: 0.5938\n",
            "Epoch 21: saving model to model/keypoint_classifier\\keypoint_classifier.hdf5\n",
            "34/34 [==============================] - 0s 3ms/step - loss: 1.0337 - accuracy: 0.5897 - val_loss: 0.7564 - val_accuracy: 0.7931\n",
            "Epoch 22/1000\n",
            " 1/34 [..............................] - ETA: 0s - loss: 1.1499 - accuracy: 0.5156\n",
            "Epoch 22: saving model to model/keypoint_classifier\\keypoint_classifier.hdf5\n",
            "34/34 [==============================] - 0s 3ms/step - loss: 1.0181 - accuracy: 0.6007 - val_loss: 0.7425 - val_accuracy: 0.7938\n",
            "Epoch 23/1000\n",
            " 1/34 [..............................] - ETA: 0s - loss: 0.9284 - accuracy: 0.6719\n",
            "Epoch 23: saving model to model/keypoint_classifier\\keypoint_classifier.hdf5\n",
            "34/34 [==============================] - 0s 3ms/step - loss: 1.0107 - accuracy: 0.6064 - val_loss: 0.7195 - val_accuracy: 0.7979\n",
            "Epoch 24/1000\n",
            " 1/34 [..............................] - ETA: 0s - loss: 0.8504 - accuracy: 0.6953\n",
            "Epoch 24: saving model to model/keypoint_classifier\\keypoint_classifier.hdf5\n",
            "34/34 [==============================] - 0s 3ms/step - loss: 0.9885 - accuracy: 0.6101 - val_loss: 0.7093 - val_accuracy: 0.7834\n",
            "Epoch 25/1000\n",
            " 1/34 [..............................] - ETA: 0s - loss: 1.0112 - accuracy: 0.5703\n",
            "Epoch 25: saving model to model/keypoint_classifier\\keypoint_classifier.hdf5\n",
            "34/34 [==============================] - 0s 3ms/step - loss: 0.9966 - accuracy: 0.6147 - val_loss: 0.6913 - val_accuracy: 0.7952\n",
            "Epoch 26/1000\n",
            " 1/34 [..............................] - ETA: 0s - loss: 1.0159 - accuracy: 0.5781\n",
            "Epoch 26: saving model to model/keypoint_classifier\\keypoint_classifier.hdf5\n",
            "34/34 [==============================] - 0s 3ms/step - loss: 0.9853 - accuracy: 0.6214 - val_loss: 0.6827 - val_accuracy: 0.8000\n",
            "Epoch 27/1000\n",
            " 1/34 [..............................] - ETA: 0s - loss: 0.7920 - accuracy: 0.7422\n",
            "Epoch 27: saving model to model/keypoint_classifier\\keypoint_classifier.hdf5\n",
            "34/34 [==============================] - 0s 3ms/step - loss: 0.9829 - accuracy: 0.6186 - val_loss: 0.6765 - val_accuracy: 0.7917\n",
            "Epoch 28/1000\n",
            " 1/34 [..............................] - ETA: 0s - loss: 0.9699 - accuracy: 0.6328\n",
            "Epoch 28: saving model to model/keypoint_classifier\\keypoint_classifier.hdf5\n",
            "34/34 [==============================] - 0s 3ms/step - loss: 0.9493 - accuracy: 0.6280 - val_loss: 0.6534 - val_accuracy: 0.8021\n",
            "Epoch 29/1000\n",
            " 1/34 [..............................] - ETA: 0s - loss: 0.8123 - accuracy: 0.7031\n",
            "Epoch 29: saving model to model/keypoint_classifier\\keypoint_classifier.hdf5\n",
            "34/34 [==============================] - 0s 3ms/step - loss: 0.9342 - accuracy: 0.6356 - val_loss: 0.6380 - val_accuracy: 0.7966\n",
            "Epoch 30/1000\n",
            " 1/34 [..............................] - ETA: 0s - loss: 0.8868 - accuracy: 0.6562\n",
            "Epoch 30: saving model to model/keypoint_classifier\\keypoint_classifier.hdf5\n",
            "34/34 [==============================] - 0s 3ms/step - loss: 0.9403 - accuracy: 0.6398 - val_loss: 0.6325 - val_accuracy: 0.8041\n",
            "Epoch 31/1000\n",
            " 1/34 [..............................] - ETA: 0s - loss: 0.9083 - accuracy: 0.6406\n",
            "Epoch 31: saving model to model/keypoint_classifier\\keypoint_classifier.hdf5\n",
            "34/34 [==============================] - 0s 3ms/step - loss: 0.9434 - accuracy: 0.6379 - val_loss: 0.6164 - val_accuracy: 0.8048\n",
            "Epoch 32/1000\n",
            " 1/34 [..............................] - ETA: 0s - loss: 0.9191 - accuracy: 0.6250\n",
            "Epoch 32: saving model to model/keypoint_classifier\\keypoint_classifier.hdf5\n",
            "34/34 [==============================] - 0s 3ms/step - loss: 0.9423 - accuracy: 0.6329 - val_loss: 0.6194 - val_accuracy: 0.8200\n",
            "Epoch 33/1000\n",
            " 1/34 [..............................] - ETA: 0s - loss: 0.8903 - accuracy: 0.6094\n",
            "Epoch 33: saving model to model/keypoint_classifier\\keypoint_classifier.hdf5\n",
            "34/34 [==============================] - 0s 3ms/step - loss: 0.9260 - accuracy: 0.6446 - val_loss: 0.6137 - val_accuracy: 0.8228\n",
            "Epoch 34/1000\n",
            " 1/34 [..............................] - ETA: 0s - loss: 0.9899 - accuracy: 0.5938\n",
            "Epoch 34: saving model to model/keypoint_classifier\\keypoint_classifier.hdf5\n",
            "34/34 [==============================] - 0s 3ms/step - loss: 0.9301 - accuracy: 0.6405 - val_loss: 0.6026 - val_accuracy: 0.8200\n",
            "Epoch 35/1000\n",
            " 1/34 [..............................] - ETA: 0s - loss: 0.8396 - accuracy: 0.6562\n",
            "Epoch 35: saving model to model/keypoint_classifier\\keypoint_classifier.hdf5\n",
            "34/34 [==============================] - 0s 3ms/step - loss: 0.8992 - accuracy: 0.6428 - val_loss: 0.5949 - val_accuracy: 0.8214\n",
            "Epoch 36/1000\n",
            " 1/34 [..............................] - ETA: 0s - loss: 0.9533 - accuracy: 0.6016\n",
            "Epoch 36: saving model to model/keypoint_classifier\\keypoint_classifier.hdf5\n",
            "34/34 [==============================] - 0s 3ms/step - loss: 0.9001 - accuracy: 0.6497 - val_loss: 0.5850 - val_accuracy: 0.8166\n",
            "Epoch 37/1000\n",
            " 1/34 [..............................] - ETA: 0s - loss: 0.8244 - accuracy: 0.6406\n",
            "Epoch 37: saving model to model/keypoint_classifier\\keypoint_classifier.hdf5\n",
            "34/34 [==============================] - 0s 3ms/step - loss: 0.9113 - accuracy: 0.6494 - val_loss: 0.5816 - val_accuracy: 0.8262\n",
            "Epoch 38/1000\n",
            " 1/34 [..............................] - ETA: 0s - loss: 0.9283 - accuracy: 0.6406\n",
            "Epoch 38: saving model to model/keypoint_classifier\\keypoint_classifier.hdf5\n",
            "34/34 [==============================] - 0s 3ms/step - loss: 0.8985 - accuracy: 0.6545 - val_loss: 0.5763 - val_accuracy: 0.8117\n",
            "Epoch 39/1000\n",
            " 1/34 [..............................] - ETA: 0s - loss: 0.9269 - accuracy: 0.6328\n",
            "Epoch 39: saving model to model/keypoint_classifier\\keypoint_classifier.hdf5\n",
            "34/34 [==============================] - 0s 3ms/step - loss: 0.8925 - accuracy: 0.6651 - val_loss: 0.5718 - val_accuracy: 0.8283\n",
            "Epoch 40/1000\n",
            "33/34 [============================>.] - ETA: 0s - loss: 0.8893 - accuracy: 0.6641\n",
            "Epoch 40: saving model to model/keypoint_classifier\\keypoint_classifier.hdf5\n",
            "34/34 [==============================] - 0s 3ms/step - loss: 0.8892 - accuracy: 0.6639 - val_loss: 0.5661 - val_accuracy: 0.8124\n",
            "Epoch 41/1000\n",
            " 1/34 [..............................] - ETA: 0s - loss: 0.8851 - accuracy: 0.6719\n",
            "Epoch 41: saving model to model/keypoint_classifier\\keypoint_classifier.hdf5\n",
            "34/34 [==============================] - 0s 3ms/step - loss: 0.8898 - accuracy: 0.6724 - val_loss: 0.5635 - val_accuracy: 0.8234\n",
            "Epoch 42/1000\n",
            " 1/34 [..............................] - ETA: 0s - loss: 0.9320 - accuracy: 0.6797\n",
            "Epoch 42: saving model to model/keypoint_classifier\\keypoint_classifier.hdf5\n",
            "34/34 [==============================] - 0s 3ms/step - loss: 0.8711 - accuracy: 0.6749 - val_loss: 0.5532 - val_accuracy: 0.8297\n",
            "Epoch 43/1000\n",
            "28/34 [=======================>......] - ETA: 0s - loss: 0.8587 - accuracy: 0.6772\n",
            "Epoch 43: saving model to model/keypoint_classifier\\keypoint_classifier.hdf5\n",
            "34/34 [==============================] - 0s 3ms/step - loss: 0.8713 - accuracy: 0.6729 - val_loss: 0.5492 - val_accuracy: 0.8228\n",
            "Epoch 44/1000\n",
            " 1/34 [..............................] - ETA: 0s - loss: 0.9175 - accuracy: 0.6562\n",
            "Epoch 44: saving model to model/keypoint_classifier\\keypoint_classifier.hdf5\n",
            "34/34 [==============================] - 0s 3ms/step - loss: 0.8557 - accuracy: 0.6791 - val_loss: 0.5425 - val_accuracy: 0.8283\n",
            "Epoch 45/1000\n",
            " 1/34 [..............................] - ETA: 0s - loss: 0.9061 - accuracy: 0.6016\n",
            "Epoch 45: saving model to model/keypoint_classifier\\keypoint_classifier.hdf5\n",
            "34/34 [==============================] - 0s 3ms/step - loss: 0.8625 - accuracy: 0.6791 - val_loss: 0.5438 - val_accuracy: 0.8172\n",
            "Epoch 46/1000\n",
            " 1/34 [..............................] - ETA: 0s - loss: 0.8678 - accuracy: 0.7344\n",
            "Epoch 46: saving model to model/keypoint_classifier\\keypoint_classifier.hdf5\n",
            "34/34 [==============================] - 0s 3ms/step - loss: 0.8500 - accuracy: 0.6791 - val_loss: 0.5379 - val_accuracy: 0.8193\n",
            "Epoch 47/1000\n",
            " 1/34 [..............................] - ETA: 0s - loss: 0.8576 - accuracy: 0.6328\n",
            "Epoch 47: saving model to model/keypoint_classifier\\keypoint_classifier.hdf5\n",
            "34/34 [==============================] - 0s 3ms/step - loss: 0.8557 - accuracy: 0.6779 - val_loss: 0.5331 - val_accuracy: 0.8241\n",
            "Epoch 48/1000\n",
            "34/34 [==============================] - ETA: 0s - loss: 0.8535 - accuracy: 0.6867\n",
            "Epoch 48: saving model to model/keypoint_classifier\\keypoint_classifier.hdf5\n",
            "34/34 [==============================] - 0s 3ms/step - loss: 0.8535 - accuracy: 0.6867 - val_loss: 0.5338 - val_accuracy: 0.8310\n",
            "Epoch 49/1000\n",
            "33/34 [============================>.] - ETA: 0s - loss: 0.8558 - accuracy: 0.6825\n",
            "Epoch 49: saving model to model/keypoint_classifier\\keypoint_classifier.hdf5\n",
            "34/34 [==============================] - 0s 3ms/step - loss: 0.8532 - accuracy: 0.6839 - val_loss: 0.5222 - val_accuracy: 0.8503\n",
            "Epoch 50/1000\n",
            "26/34 [=====================>........] - ETA: 0s - loss: 0.8487 - accuracy: 0.6842\n",
            "Epoch 50: saving model to model/keypoint_classifier\\keypoint_classifier.hdf5\n",
            "34/34 [==============================] - 0s 4ms/step - loss: 0.8467 - accuracy: 0.6862 - val_loss: 0.5230 - val_accuracy: 0.8372\n",
            "Epoch 51/1000\n",
            "29/34 [========================>.....] - ETA: 0s - loss: 0.8526 - accuracy: 0.6746\n",
            "Epoch 51: saving model to model/keypoint_classifier\\keypoint_classifier.hdf5\n",
            "34/34 [==============================] - 0s 3ms/step - loss: 0.8465 - accuracy: 0.6782 - val_loss: 0.5177 - val_accuracy: 0.8372\n",
            "Epoch 52/1000\n",
            " 1/34 [..............................] - ETA: 0s - loss: 1.0044 - accuracy: 0.6719\n",
            "Epoch 52: saving model to model/keypoint_classifier\\keypoint_classifier.hdf5\n",
            "34/34 [==============================] - 0s 3ms/step - loss: 0.8635 - accuracy: 0.6823 - val_loss: 0.5174 - val_accuracy: 0.8386\n",
            "Epoch 53/1000\n",
            " 1/34 [..............................] - ETA: 0s - loss: 0.8220 - accuracy: 0.6953\n",
            "Epoch 53: saving model to model/keypoint_classifier\\keypoint_classifier.hdf5\n",
            "34/34 [==============================] - 0s 3ms/step - loss: 0.8525 - accuracy: 0.6791 - val_loss: 0.5069 - val_accuracy: 0.8531\n",
            "Epoch 54/1000\n",
            " 1/34 [..............................] - ETA: 0s - loss: 0.8282 - accuracy: 0.7031\n",
            "Epoch 54: saving model to model/keypoint_classifier\\keypoint_classifier.hdf5\n",
            "34/34 [==============================] - 0s 3ms/step - loss: 0.8248 - accuracy: 0.7018 - val_loss: 0.5125 - val_accuracy: 0.8634\n",
            "Epoch 55/1000\n",
            "27/34 [======================>.......] - ETA: 0s - loss: 0.8244 - accuracy: 0.7028\n",
            "Epoch 55: saving model to model/keypoint_classifier\\keypoint_classifier.hdf5\n",
            "34/34 [==============================] - 0s 4ms/step - loss: 0.8278 - accuracy: 0.7016 - val_loss: 0.5030 - val_accuracy: 0.8538\n",
            "Epoch 56/1000\n",
            "27/34 [======================>.......] - ETA: 0s - loss: 0.8384 - accuracy: 0.6913\n",
            "Epoch 56: saving model to model/keypoint_classifier\\keypoint_classifier.hdf5\n",
            "34/34 [==============================] - 0s 3ms/step - loss: 0.8349 - accuracy: 0.6954 - val_loss: 0.5055 - val_accuracy: 0.8600\n",
            "Epoch 57/1000\n",
            "29/34 [========================>.....] - ETA: 0s - loss: 0.8122 - accuracy: 0.6921\n",
            "Epoch 57: saving model to model/keypoint_classifier\\keypoint_classifier.hdf5\n",
            "34/34 [==============================] - 0s 4ms/step - loss: 0.8032 - accuracy: 0.6956 - val_loss: 0.4937 - val_accuracy: 0.8655\n",
            "Epoch 58/1000\n",
            "29/34 [========================>.....] - ETA: 0s - loss: 0.8211 - accuracy: 0.6988\n",
            "Epoch 58: saving model to model/keypoint_classifier\\keypoint_classifier.hdf5\n",
            "34/34 [==============================] - 0s 3ms/step - loss: 0.8175 - accuracy: 0.7018 - val_loss: 0.4923 - val_accuracy: 0.8648\n",
            "Epoch 59/1000\n",
            "30/34 [=========================>....] - ETA: 0s - loss: 0.8248 - accuracy: 0.6922\n",
            "Epoch 59: saving model to model/keypoint_classifier\\keypoint_classifier.hdf5\n",
            "34/34 [==============================] - 0s 3ms/step - loss: 0.8272 - accuracy: 0.6949 - val_loss: 0.4993 - val_accuracy: 0.8641\n",
            "Epoch 60/1000\n",
            "32/34 [===========================>..] - ETA: 0s - loss: 0.8343 - accuracy: 0.6895\n",
            "Epoch 60: saving model to model/keypoint_classifier\\keypoint_classifier.hdf5\n",
            "34/34 [==============================] - 0s 3ms/step - loss: 0.8337 - accuracy: 0.6901 - val_loss: 0.4976 - val_accuracy: 0.8600\n",
            "Epoch 61/1000\n",
            "33/34 [============================>.] - ETA: 0s - loss: 0.8223 - accuracy: 0.6967\n",
            "Epoch 61: saving model to model/keypoint_classifier\\keypoint_classifier.hdf5\n",
            "34/34 [==============================] - 0s 3ms/step - loss: 0.8196 - accuracy: 0.6979 - val_loss: 0.4873 - val_accuracy: 0.8807\n",
            "Epoch 62/1000\n",
            "31/34 [==========================>...] - ETA: 0s - loss: 0.8256 - accuracy: 0.6986\n",
            "Epoch 62: saving model to model/keypoint_classifier\\keypoint_classifier.hdf5\n",
            "34/34 [==============================] - 0s 3ms/step - loss: 0.8248 - accuracy: 0.6982 - val_loss: 0.4880 - val_accuracy: 0.8690\n",
            "Epoch 63/1000\n",
            "33/34 [============================>.] - ETA: 0s - loss: 0.8043 - accuracy: 0.7109\n",
            "Epoch 63: saving model to model/keypoint_classifier\\keypoint_classifier.hdf5\n",
            "34/34 [==============================] - 0s 3ms/step - loss: 0.8076 - accuracy: 0.7106 - val_loss: 0.4769 - val_accuracy: 0.8897\n",
            "Epoch 64/1000\n",
            "32/34 [===========================>..] - ETA: 0s - loss: 0.8090 - accuracy: 0.7019\n",
            "Epoch 64: saving model to model/keypoint_classifier\\keypoint_classifier.hdf5\n",
            "34/34 [==============================] - 0s 3ms/step - loss: 0.8060 - accuracy: 0.7041 - val_loss: 0.4874 - val_accuracy: 0.8772\n",
            "Epoch 65/1000\n",
            "32/34 [===========================>..] - ETA: 0s - loss: 0.8182 - accuracy: 0.7048\n",
            "Epoch 65: saving model to model/keypoint_classifier\\keypoint_classifier.hdf5\n",
            "34/34 [==============================] - 0s 3ms/step - loss: 0.8167 - accuracy: 0.7044 - val_loss: 0.4817 - val_accuracy: 0.8786\n",
            "Epoch 66/1000\n",
            "34/34 [==============================] - ETA: 0s - loss: 0.8262 - accuracy: 0.6986\n",
            "Epoch 66: saving model to model/keypoint_classifier\\keypoint_classifier.hdf5\n",
            "34/34 [==============================] - 0s 3ms/step - loss: 0.8262 - accuracy: 0.6986 - val_loss: 0.4846 - val_accuracy: 0.8621\n",
            "Epoch 67/1000\n",
            "33/34 [============================>.] - ETA: 0s - loss: 0.8108 - accuracy: 0.7031\n",
            "Epoch 67: saving model to model/keypoint_classifier\\keypoint_classifier.hdf5\n",
            "34/34 [==============================] - 0s 3ms/step - loss: 0.8124 - accuracy: 0.7018 - val_loss: 0.4779 - val_accuracy: 0.8697\n",
            "Epoch 68/1000\n",
            " 1/34 [..............................] - ETA: 0s - loss: 0.8164 - accuracy: 0.7031\n",
            "Epoch 68: saving model to model/keypoint_classifier\\keypoint_classifier.hdf5\n",
            "34/34 [==============================] - 0s 3ms/step - loss: 0.7936 - accuracy: 0.7131 - val_loss: 0.4688 - val_accuracy: 0.8828\n",
            "Epoch 69/1000\n",
            "32/34 [===========================>..] - ETA: 0s - loss: 0.8003 - accuracy: 0.7158\n",
            "Epoch 69: saving model to model/keypoint_classifier\\keypoint_classifier.hdf5\n",
            "34/34 [==============================] - 0s 4ms/step - loss: 0.8001 - accuracy: 0.7161 - val_loss: 0.4757 - val_accuracy: 0.8669\n",
            "Epoch 70/1000\n",
            "18/34 [==============>...............] - ETA: 0s - loss: 0.7905 - accuracy: 0.7235\n",
            "Epoch 70: saving model to model/keypoint_classifier\\keypoint_classifier.hdf5\n",
            "34/34 [==============================] - 0s 5ms/step - loss: 0.7903 - accuracy: 0.7179 - val_loss: 0.4667 - val_accuracy: 0.8814\n",
            "Epoch 71/1000\n",
            "22/34 [==================>...........] - ETA: 0s - loss: 0.8128 - accuracy: 0.6950\n",
            "Epoch 71: saving model to model/keypoint_classifier\\keypoint_classifier.hdf5\n",
            "34/34 [==============================] - 0s 4ms/step - loss: 0.8000 - accuracy: 0.7007 - val_loss: 0.4661 - val_accuracy: 0.8676\n",
            "Epoch 72/1000\n",
            "30/34 [=========================>....] - ETA: 0s - loss: 0.8040 - accuracy: 0.7047\n",
            "Epoch 72: saving model to model/keypoint_classifier\\keypoint_classifier.hdf5\n",
            "34/34 [==============================] - 0s 3ms/step - loss: 0.8048 - accuracy: 0.7083 - val_loss: 0.4599 - val_accuracy: 0.8897\n",
            "Epoch 73/1000\n",
            "34/34 [==============================] - ETA: 0s - loss: 0.8022 - accuracy: 0.7014\n",
            "Epoch 73: saving model to model/keypoint_classifier\\keypoint_classifier.hdf5\n",
            "34/34 [==============================] - 0s 3ms/step - loss: 0.8022 - accuracy: 0.7014 - val_loss: 0.4674 - val_accuracy: 0.8903\n",
            "Epoch 74/1000\n",
            " 1/34 [..............................] - ETA: 0s - loss: 0.6988 - accuracy: 0.7500\n",
            "Epoch 74: saving model to model/keypoint_classifier\\keypoint_classifier.hdf5\n",
            "34/34 [==============================] - 0s 3ms/step - loss: 0.7969 - accuracy: 0.7120 - val_loss: 0.4547 - val_accuracy: 0.8876\n",
            "Epoch 75/1000\n",
            "33/34 [============================>.] - ETA: 0s - loss: 0.7787 - accuracy: 0.7121\n",
            "Epoch 75: saving model to model/keypoint_classifier\\keypoint_classifier.hdf5\n",
            "34/34 [==============================] - 0s 3ms/step - loss: 0.7780 - accuracy: 0.7117 - val_loss: 0.4586 - val_accuracy: 0.8903\n",
            "Epoch 76/1000\n",
            "33/34 [============================>.] - ETA: 0s - loss: 0.7859 - accuracy: 0.7150\n",
            "Epoch 76: saving model to model/keypoint_classifier\\keypoint_classifier.hdf5\n",
            "34/34 [==============================] - 0s 3ms/step - loss: 0.7865 - accuracy: 0.7154 - val_loss: 0.4512 - val_accuracy: 0.9014\n",
            "Epoch 77/1000\n",
            " 1/34 [..............................] - ETA: 0s - loss: 0.7321 - accuracy: 0.7578\n",
            "Epoch 77: saving model to model/keypoint_classifier\\keypoint_classifier.hdf5\n",
            "34/34 [==============================] - 0s 3ms/step - loss: 0.7808 - accuracy: 0.7186 - val_loss: 0.4524 - val_accuracy: 0.9014\n",
            "Epoch 78/1000\n",
            " 1/34 [..............................] - ETA: 0s - loss: 0.6786 - accuracy: 0.7891\n",
            "Epoch 78: saving model to model/keypoint_classifier\\keypoint_classifier.hdf5\n",
            "34/34 [==============================] - 0s 3ms/step - loss: 0.7815 - accuracy: 0.7182 - val_loss: 0.4570 - val_accuracy: 0.8862\n",
            "Epoch 79/1000\n",
            " 1/34 [..............................] - ETA: 0s - loss: 0.7038 - accuracy: 0.7812\n",
            "Epoch 79: saving model to model/keypoint_classifier\\keypoint_classifier.hdf5\n",
            "34/34 [==============================] - 0s 3ms/step - loss: 0.7910 - accuracy: 0.7087 - val_loss: 0.4587 - val_accuracy: 0.8966\n",
            "Epoch 80/1000\n",
            "34/34 [==============================] - ETA: 0s - loss: 0.7850 - accuracy: 0.7184\n",
            "Epoch 80: saving model to model/keypoint_classifier\\keypoint_classifier.hdf5\n",
            "34/34 [==============================] - 0s 3ms/step - loss: 0.7850 - accuracy: 0.7184 - val_loss: 0.4498 - val_accuracy: 0.9117\n",
            "Epoch 81/1000\n",
            " 1/34 [..............................] - ETA: 0s - loss: 0.7665 - accuracy: 0.7422\n",
            "Epoch 81: saving model to model/keypoint_classifier\\keypoint_classifier.hdf5\n",
            "34/34 [==============================] - 0s 3ms/step - loss: 0.8067 - accuracy: 0.7080 - val_loss: 0.4496 - val_accuracy: 0.9083\n",
            "Epoch 82/1000\n",
            " 1/34 [..............................] - ETA: 0s - loss: 0.8473 - accuracy: 0.7266\n",
            "Epoch 82: saving model to model/keypoint_classifier\\keypoint_classifier.hdf5\n",
            "34/34 [==============================] - 0s 3ms/step - loss: 0.7995 - accuracy: 0.7069 - val_loss: 0.4547 - val_accuracy: 0.9021\n",
            "Epoch 83/1000\n",
            " 1/34 [..............................] - ETA: 0s - loss: 0.7834 - accuracy: 0.7266\n",
            "Epoch 83: saving model to model/keypoint_classifier\\keypoint_classifier.hdf5\n",
            "34/34 [==============================] - 0s 3ms/step - loss: 0.7868 - accuracy: 0.7117 - val_loss: 0.4515 - val_accuracy: 0.8966\n",
            "Epoch 84/1000\n",
            " 1/34 [..............................] - ETA: 0s - loss: 0.8500 - accuracy: 0.7109\n",
            "Epoch 84: saving model to model/keypoint_classifier\\keypoint_classifier.hdf5\n",
            "34/34 [==============================] - 0s 3ms/step - loss: 0.7755 - accuracy: 0.7255 - val_loss: 0.4401 - val_accuracy: 0.8972\n",
            "Epoch 85/1000\n",
            " 1/34 [..............................] - ETA: 0s - loss: 0.7994 - accuracy: 0.7344\n",
            "Epoch 85: saving model to model/keypoint_classifier\\keypoint_classifier.hdf5\n",
            "34/34 [==============================] - 0s 3ms/step - loss: 0.7795 - accuracy: 0.7156 - val_loss: 0.4320 - val_accuracy: 0.9014\n",
            "Epoch 86/1000\n",
            " 1/34 [..............................] - ETA: 0s - loss: 0.5942 - accuracy: 0.7969\n",
            "Epoch 86: saving model to model/keypoint_classifier\\keypoint_classifier.hdf5\n",
            "34/34 [==============================] - 0s 3ms/step - loss: 0.7911 - accuracy: 0.7106 - val_loss: 0.4446 - val_accuracy: 0.9014\n",
            "Epoch 87/1000\n",
            " 1/34 [..............................] - ETA: 0s - loss: 0.8584 - accuracy: 0.7031\n",
            "Epoch 87: saving model to model/keypoint_classifier\\keypoint_classifier.hdf5\n",
            "34/34 [==============================] - 0s 3ms/step - loss: 0.7691 - accuracy: 0.7264 - val_loss: 0.4301 - val_accuracy: 0.9166\n",
            "Epoch 88/1000\n",
            " 1/34 [..............................] - ETA: 0s - loss: 0.9116 - accuracy: 0.6719\n",
            "Epoch 88: saving model to model/keypoint_classifier\\keypoint_classifier.hdf5\n",
            "34/34 [==============================] - 0s 3ms/step - loss: 0.7794 - accuracy: 0.7145 - val_loss: 0.4423 - val_accuracy: 0.9028\n",
            "Epoch 89/1000\n",
            " 1/34 [..............................] - ETA: 0s - loss: 0.7247 - accuracy: 0.7188\n",
            "Epoch 89: saving model to model/keypoint_classifier\\keypoint_classifier.hdf5\n",
            "34/34 [==============================] - 0s 3ms/step - loss: 0.7594 - accuracy: 0.7193 - val_loss: 0.4355 - val_accuracy: 0.8979\n",
            "Epoch 90/1000\n",
            " 1/34 [..............................] - ETA: 0s - loss: 0.8954 - accuracy: 0.6719\n",
            "Epoch 90: saving model to model/keypoint_classifier\\keypoint_classifier.hdf5\n",
            "34/34 [==============================] - 0s 3ms/step - loss: 0.7641 - accuracy: 0.7145 - val_loss: 0.4332 - val_accuracy: 0.9021\n",
            "Epoch 91/1000\n",
            " 1/34 [..............................] - ETA: 0s - loss: 0.7284 - accuracy: 0.7266\n",
            "Epoch 91: saving model to model/keypoint_classifier\\keypoint_classifier.hdf5\n",
            "34/34 [==============================] - 0s 3ms/step - loss: 0.7724 - accuracy: 0.7166 - val_loss: 0.4302 - val_accuracy: 0.8979\n",
            "Epoch 92/1000\n",
            " 1/34 [..............................] - ETA: 0s - loss: 0.6982 - accuracy: 0.7656\n",
            "Epoch 92: saving model to model/keypoint_classifier\\keypoint_classifier.hdf5\n",
            "34/34 [==============================] - 0s 3ms/step - loss: 0.7575 - accuracy: 0.7340 - val_loss: 0.4284 - val_accuracy: 0.9062\n",
            "Epoch 93/1000\n",
            "32/34 [===========================>..] - ETA: 0s - loss: 0.7611 - accuracy: 0.7185\n",
            "Epoch 93: saving model to model/keypoint_classifier\\keypoint_classifier.hdf5\n",
            "34/34 [==============================] - 0s 3ms/step - loss: 0.7612 - accuracy: 0.7195 - val_loss: 0.4342 - val_accuracy: 0.8924\n",
            "Epoch 94/1000\n",
            "30/34 [=========================>....] - ETA: 0s - loss: 0.7722 - accuracy: 0.7125\n",
            "Epoch 94: saving model to model/keypoint_classifier\\keypoint_classifier.hdf5\n",
            "34/34 [==============================] - 0s 3ms/step - loss: 0.7732 - accuracy: 0.7140 - val_loss: 0.4366 - val_accuracy: 0.9041\n",
            "Epoch 95/1000\n",
            " 1/34 [..............................] - ETA: 0s - loss: 0.8458 - accuracy: 0.6875\n",
            "Epoch 95: saving model to model/keypoint_classifier\\keypoint_classifier.hdf5\n",
            "34/34 [==============================] - 0s 3ms/step - loss: 0.7623 - accuracy: 0.7216 - val_loss: 0.4370 - val_accuracy: 0.9014\n",
            "Epoch 96/1000\n",
            " 1/34 [..............................] - ETA: 0s - loss: 0.6756 - accuracy: 0.7656\n",
            "Epoch 96: saving model to model/keypoint_classifier\\keypoint_classifier.hdf5\n",
            "34/34 [==============================] - 0s 3ms/step - loss: 0.7639 - accuracy: 0.7159 - val_loss: 0.4263 - val_accuracy: 0.9090\n",
            "Epoch 97/1000\n",
            "34/34 [==============================] - ETA: 0s - loss: 0.7623 - accuracy: 0.7228\n",
            "Epoch 97: saving model to model/keypoint_classifier\\keypoint_classifier.hdf5\n",
            "34/34 [==============================] - 0s 4ms/step - loss: 0.7623 - accuracy: 0.7228 - val_loss: 0.4220 - val_accuracy: 0.9131\n",
            "Epoch 98/1000\n",
            "27/34 [======================>.......] - ETA: 0s - loss: 0.7712 - accuracy: 0.7190\n",
            "Epoch 98: saving model to model/keypoint_classifier\\keypoint_classifier.hdf5\n",
            "34/34 [==============================] - 0s 4ms/step - loss: 0.7742 - accuracy: 0.7177 - val_loss: 0.4260 - val_accuracy: 0.9069\n",
            "Epoch 99/1000\n",
            " 1/34 [..............................] - ETA: 0s - loss: 0.7998 - accuracy: 0.7344\n",
            "Epoch 99: saving model to model/keypoint_classifier\\keypoint_classifier.hdf5\n",
            "34/34 [==============================] - 0s 3ms/step - loss: 0.7408 - accuracy: 0.7324 - val_loss: 0.4201 - val_accuracy: 0.9048\n",
            "Epoch 100/1000\n",
            " 1/34 [..............................] - ETA: 0s - loss: 0.8505 - accuracy: 0.6797\n",
            "Epoch 100: saving model to model/keypoint_classifier\\keypoint_classifier.hdf5\n",
            "34/34 [==============================] - 0s 3ms/step - loss: 0.7425 - accuracy: 0.7308 - val_loss: 0.4113 - val_accuracy: 0.9145\n",
            "Epoch 101/1000\n",
            "31/34 [==========================>...] - ETA: 0s - loss: 0.7538 - accuracy: 0.7296\n",
            "Epoch 101: saving model to model/keypoint_classifier\\keypoint_classifier.hdf5\n",
            "34/34 [==============================] - 0s 4ms/step - loss: 0.7556 - accuracy: 0.7253 - val_loss: 0.4088 - val_accuracy: 0.9159\n",
            "Epoch 102/1000\n",
            "22/34 [==================>...........] - ETA: 0s - loss: 0.7456 - accuracy: 0.7322\n",
            "Epoch 102: saving model to model/keypoint_classifier\\keypoint_classifier.hdf5\n",
            "34/34 [==============================] - 0s 4ms/step - loss: 0.7364 - accuracy: 0.7356 - val_loss: 0.4010 - val_accuracy: 0.9255\n",
            "Epoch 103/1000\n",
            "29/34 [========================>.....] - ETA: 0s - loss: 0.7616 - accuracy: 0.7252\n",
            "Epoch 103: saving model to model/keypoint_classifier\\keypoint_classifier.hdf5\n",
            "34/34 [==============================] - 0s 4ms/step - loss: 0.7631 - accuracy: 0.7230 - val_loss: 0.4262 - val_accuracy: 0.9172\n",
            "Epoch 104/1000\n",
            "29/34 [========================>.....] - ETA: 0s - loss: 0.7641 - accuracy: 0.7201\n",
            "Epoch 104: saving model to model/keypoint_classifier\\keypoint_classifier.hdf5\n",
            "34/34 [==============================] - 0s 4ms/step - loss: 0.7615 - accuracy: 0.7223 - val_loss: 0.4094 - val_accuracy: 0.9145\n",
            "Epoch 105/1000\n",
            " 1/34 [..............................] - ETA: 0s - loss: 0.5824 - accuracy: 0.7734\n",
            "Epoch 105: saving model to model/keypoint_classifier\\keypoint_classifier.hdf5\n",
            "34/34 [==============================] - 0s 3ms/step - loss: 0.7426 - accuracy: 0.7278 - val_loss: 0.4123 - val_accuracy: 0.9221\n",
            "Epoch 106/1000\n",
            "30/34 [=========================>....] - ETA: 0s - loss: 0.7367 - accuracy: 0.7320\n",
            "Epoch 106: saving model to model/keypoint_classifier\\keypoint_classifier.hdf5\n",
            "34/34 [==============================] - 0s 3ms/step - loss: 0.7383 - accuracy: 0.7292 - val_loss: 0.4054 - val_accuracy: 0.9110\n",
            "Epoch 107/1000\n",
            "33/34 [============================>.] - ETA: 0s - loss: 0.7548 - accuracy: 0.7263\n",
            "Epoch 107: saving model to model/keypoint_classifier\\keypoint_classifier.hdf5\n",
            "34/34 [==============================] - 0s 3ms/step - loss: 0.7560 - accuracy: 0.7257 - val_loss: 0.4085 - val_accuracy: 0.9214\n",
            "Epoch 108/1000\n",
            "32/34 [===========================>..] - ETA: 0s - loss: 0.7646 - accuracy: 0.7258\n",
            "Epoch 108: saving model to model/keypoint_classifier\\keypoint_classifier.hdf5\n",
            "34/34 [==============================] - 0s 3ms/step - loss: 0.7585 - accuracy: 0.7283 - val_loss: 0.4114 - val_accuracy: 0.9131\n",
            "Epoch 109/1000\n",
            "33/34 [============================>.] - ETA: 0s - loss: 0.7586 - accuracy: 0.7249\n",
            "Epoch 109: saving model to model/keypoint_classifier\\keypoint_classifier.hdf5\n",
            "34/34 [==============================] - 0s 3ms/step - loss: 0.7556 - accuracy: 0.7255 - val_loss: 0.4124 - val_accuracy: 0.9138\n",
            "Epoch 110/1000\n",
            "32/34 [===========================>..] - ETA: 0s - loss: 0.7624 - accuracy: 0.7256\n",
            "Epoch 110: saving model to model/keypoint_classifier\\keypoint_classifier.hdf5\n",
            "34/34 [==============================] - 0s 3ms/step - loss: 0.7567 - accuracy: 0.7276 - val_loss: 0.4046 - val_accuracy: 0.9221\n",
            "Epoch 111/1000\n",
            "32/34 [===========================>..] - ETA: 0s - loss: 0.7423 - accuracy: 0.7292\n",
            "Epoch 111: saving model to model/keypoint_classifier\\keypoint_classifier.hdf5\n",
            "34/34 [==============================] - 0s 3ms/step - loss: 0.7421 - accuracy: 0.7324 - val_loss: 0.4044 - val_accuracy: 0.9228\n",
            "Epoch 112/1000\n",
            "31/34 [==========================>...] - ETA: 0s - loss: 0.7455 - accuracy: 0.7389\n",
            "Epoch 112: saving model to model/keypoint_classifier\\keypoint_classifier.hdf5\n",
            "34/34 [==============================] - 0s 3ms/step - loss: 0.7478 - accuracy: 0.7345 - val_loss: 0.4022 - val_accuracy: 0.9310\n",
            "Epoch 113/1000\n",
            "29/34 [========================>.....] - ETA: 0s - loss: 0.7337 - accuracy: 0.7293\n",
            "Epoch 113: saving model to model/keypoint_classifier\\keypoint_classifier.hdf5\n",
            "34/34 [==============================] - 0s 4ms/step - loss: 0.7395 - accuracy: 0.7292 - val_loss: 0.3983 - val_accuracy: 0.9138\n",
            "Epoch 114/1000\n",
            "33/34 [============================>.] - ETA: 0s - loss: 0.7611 - accuracy: 0.7223\n",
            "Epoch 114: saving model to model/keypoint_classifier\\keypoint_classifier.hdf5\n",
            "34/34 [==============================] - 0s 3ms/step - loss: 0.7605 - accuracy: 0.7221 - val_loss: 0.4079 - val_accuracy: 0.9200\n",
            "Epoch 115/1000\n",
            "31/34 [==========================>...] - ETA: 0s - loss: 0.7416 - accuracy: 0.7346\n",
            "Epoch 115: saving model to model/keypoint_classifier\\keypoint_classifier.hdf5\n",
            "34/34 [==============================] - 0s 4ms/step - loss: 0.7385 - accuracy: 0.7347 - val_loss: 0.3959 - val_accuracy: 0.9193\n",
            "Epoch 116/1000\n",
            "28/34 [=======================>......] - ETA: 0s - loss: 0.6945 - accuracy: 0.7492\n",
            "Epoch 116: saving model to model/keypoint_classifier\\keypoint_classifier.hdf5\n",
            "34/34 [==============================] - 0s 4ms/step - loss: 0.7086 - accuracy: 0.7464 - val_loss: 0.3956 - val_accuracy: 0.9207\n",
            "Epoch 117/1000\n",
            "31/34 [==========================>...] - ETA: 0s - loss: 0.7482 - accuracy: 0.7167\n",
            "Epoch 117: saving model to model/keypoint_classifier\\keypoint_classifier.hdf5\n",
            "34/34 [==============================] - 0s 3ms/step - loss: 0.7484 - accuracy: 0.7193 - val_loss: 0.3943 - val_accuracy: 0.9214\n",
            "Epoch 118/1000\n",
            "31/34 [==========================>...] - ETA: 0s - loss: 0.7307 - accuracy: 0.7336\n",
            "Epoch 118: saving model to model/keypoint_classifier\\keypoint_classifier.hdf5\n",
            "34/34 [==============================] - 0s 3ms/step - loss: 0.7319 - accuracy: 0.7345 - val_loss: 0.3947 - val_accuracy: 0.9234\n",
            "Epoch 119/1000\n",
            "34/34 [==============================] - ETA: 0s - loss: 0.7529 - accuracy: 0.7207\n",
            "Epoch 119: saving model to model/keypoint_classifier\\keypoint_classifier.hdf5\n",
            "34/34 [==============================] - 0s 3ms/step - loss: 0.7529 - accuracy: 0.7207 - val_loss: 0.3984 - val_accuracy: 0.9200\n",
            "Epoch 120/1000\n",
            "30/34 [=========================>....] - ETA: 0s - loss: 0.7464 - accuracy: 0.7289\n",
            "Epoch 120: saving model to model/keypoint_classifier\\keypoint_classifier.hdf5\n",
            "34/34 [==============================] - 0s 3ms/step - loss: 0.7392 - accuracy: 0.7313 - val_loss: 0.3891 - val_accuracy: 0.9228\n",
            "Epoch 121/1000\n",
            "30/34 [=========================>....] - ETA: 0s - loss: 0.7330 - accuracy: 0.7305\n",
            "Epoch 121: saving model to model/keypoint_classifier\\keypoint_classifier.hdf5\n",
            "34/34 [==============================] - 0s 3ms/step - loss: 0.7326 - accuracy: 0.7324 - val_loss: 0.3955 - val_accuracy: 0.9228\n",
            "Epoch 122/1000\n",
            "30/34 [=========================>....] - ETA: 0s - loss: 0.7413 - accuracy: 0.7307\n",
            "Epoch 122: saving model to model/keypoint_classifier\\keypoint_classifier.hdf5\n",
            "34/34 [==============================] - 0s 3ms/step - loss: 0.7458 - accuracy: 0.7297 - val_loss: 0.3937 - val_accuracy: 0.9214\n",
            "Epoch 123/1000\n",
            "31/34 [==========================>...] - ETA: 0s - loss: 0.7095 - accuracy: 0.7382\n",
            "Epoch 123: saving model to model/keypoint_classifier\\keypoint_classifier.hdf5\n",
            "34/34 [==============================] - 0s 3ms/step - loss: 0.7110 - accuracy: 0.7384 - val_loss: 0.3950 - val_accuracy: 0.9179\n",
            "Epoch 124/1000\n",
            "33/34 [============================>.] - ETA: 0s - loss: 0.7412 - accuracy: 0.7304\n",
            "Epoch 124: saving model to model/keypoint_classifier\\keypoint_classifier.hdf5\n",
            "34/34 [==============================] - 0s 3ms/step - loss: 0.7419 - accuracy: 0.7310 - val_loss: 0.3934 - val_accuracy: 0.9303\n",
            "Epoch 125/1000\n",
            "33/34 [============================>.] - ETA: 0s - loss: 0.7344 - accuracy: 0.7299\n",
            "Epoch 125: saving model to model/keypoint_classifier\\keypoint_classifier.hdf5\n",
            "34/34 [==============================] - 0s 3ms/step - loss: 0.7356 - accuracy: 0.7294 - val_loss: 0.3925 - val_accuracy: 0.9193\n",
            "Epoch 126/1000\n",
            "33/34 [============================>.] - ETA: 0s - loss: 0.7444 - accuracy: 0.7348\n",
            "Epoch 126: saving model to model/keypoint_classifier\\keypoint_classifier.hdf5\n",
            "34/34 [==============================] - 0s 3ms/step - loss: 0.7432 - accuracy: 0.7368 - val_loss: 0.3969 - val_accuracy: 0.9241\n",
            "Epoch 127/1000\n",
            "33/34 [============================>.] - ETA: 0s - loss: 0.7344 - accuracy: 0.7351\n",
            "Epoch 127: saving model to model/keypoint_classifier\\keypoint_classifier.hdf5\n",
            "34/34 [==============================] - 0s 4ms/step - loss: 0.7387 - accuracy: 0.7345 - val_loss: 0.3927 - val_accuracy: 0.9207\n",
            "Epoch 128/1000\n",
            "34/34 [==============================] - ETA: 0s - loss: 0.7380 - accuracy: 0.7338\n",
            "Epoch 128: saving model to model/keypoint_classifier\\keypoint_classifier.hdf5\n",
            "34/34 [==============================] - 0s 3ms/step - loss: 0.7380 - accuracy: 0.7338 - val_loss: 0.3843 - val_accuracy: 0.9290\n",
            "Epoch 129/1000\n",
            "32/34 [===========================>..] - ETA: 0s - loss: 0.7450 - accuracy: 0.7295\n",
            "Epoch 129: saving model to model/keypoint_classifier\\keypoint_classifier.hdf5\n",
            "34/34 [==============================] - 0s 3ms/step - loss: 0.7413 - accuracy: 0.7303 - val_loss: 0.3892 - val_accuracy: 0.9166\n",
            "Epoch 130/1000\n",
            "27/34 [======================>.......] - ETA: 0s - loss: 0.7376 - accuracy: 0.7384\n",
            "Epoch 130: saving model to model/keypoint_classifier\\keypoint_classifier.hdf5\n",
            "34/34 [==============================] - 0s 4ms/step - loss: 0.7424 - accuracy: 0.7352 - val_loss: 0.3833 - val_accuracy: 0.9255\n",
            "Epoch 131/1000\n",
            "27/34 [======================>.......] - ETA: 0s - loss: 0.7342 - accuracy: 0.7396\n",
            "Epoch 131: saving model to model/keypoint_classifier\\keypoint_classifier.hdf5\n",
            "34/34 [==============================] - 0s 4ms/step - loss: 0.7424 - accuracy: 0.7345 - val_loss: 0.3867 - val_accuracy: 0.9290\n",
            "Epoch 132/1000\n",
            "30/34 [=========================>....] - ETA: 0s - loss: 0.7364 - accuracy: 0.7320\n",
            "Epoch 132: saving model to model/keypoint_classifier\\keypoint_classifier.hdf5\n",
            "34/34 [==============================] - 0s 4ms/step - loss: 0.7332 - accuracy: 0.7356 - val_loss: 0.3906 - val_accuracy: 0.9276\n",
            "Epoch 133/1000\n",
            "29/34 [========================>.....] - ETA: 0s - loss: 0.7360 - accuracy: 0.7317\n",
            "Epoch 133: saving model to model/keypoint_classifier\\keypoint_classifier.hdf5\n",
            "34/34 [==============================] - 0s 4ms/step - loss: 0.7354 - accuracy: 0.7324 - val_loss: 0.3831 - val_accuracy: 0.9248\n",
            "Epoch 134/1000\n",
            "32/34 [===========================>..] - ETA: 0s - loss: 0.7171 - accuracy: 0.7402\n",
            "Epoch 134: saving model to model/keypoint_classifier\\keypoint_classifier.hdf5\n",
            "34/34 [==============================] - 0s 3ms/step - loss: 0.7161 - accuracy: 0.7405 - val_loss: 0.3780 - val_accuracy: 0.9200\n",
            "Epoch 135/1000\n",
            "32/34 [===========================>..] - ETA: 0s - loss: 0.7581 - accuracy: 0.7200\n",
            "Epoch 135: saving model to model/keypoint_classifier\\keypoint_classifier.hdf5\n",
            "34/34 [==============================] - 0s 3ms/step - loss: 0.7540 - accuracy: 0.7205 - val_loss: 0.3874 - val_accuracy: 0.9152\n",
            "Epoch 136/1000\n",
            "34/34 [==============================] - ETA: 0s - loss: 0.7341 - accuracy: 0.7308\n",
            "Epoch 136: saving model to model/keypoint_classifier\\keypoint_classifier.hdf5\n",
            "34/34 [==============================] - 0s 3ms/step - loss: 0.7341 - accuracy: 0.7308 - val_loss: 0.3754 - val_accuracy: 0.9241\n",
            "Epoch 137/1000\n",
            "32/34 [===========================>..] - ETA: 0s - loss: 0.7361 - accuracy: 0.7261\n",
            "Epoch 137: saving model to model/keypoint_classifier\\keypoint_classifier.hdf5\n",
            "34/34 [==============================] - 0s 3ms/step - loss: 0.7347 - accuracy: 0.7276 - val_loss: 0.3891 - val_accuracy: 0.9207\n",
            "Epoch 138/1000\n",
            "31/34 [==========================>...] - ETA: 0s - loss: 0.7488 - accuracy: 0.7314\n",
            "Epoch 138: saving model to model/keypoint_classifier\\keypoint_classifier.hdf5\n",
            "34/34 [==============================] - 0s 3ms/step - loss: 0.7395 - accuracy: 0.7343 - val_loss: 0.3767 - val_accuracy: 0.9172\n",
            "Epoch 139/1000\n",
            "34/34 [==============================] - ETA: 0s - loss: 0.7398 - accuracy: 0.7377\n",
            "Epoch 139: saving model to model/keypoint_classifier\\keypoint_classifier.hdf5\n",
            "34/34 [==============================] - 0s 3ms/step - loss: 0.7398 - accuracy: 0.7377 - val_loss: 0.3789 - val_accuracy: 0.9234\n",
            "Epoch 140/1000\n",
            "34/34 [==============================] - ETA: 0s - loss: 0.7251 - accuracy: 0.7336\n",
            "Epoch 140: saving model to model/keypoint_classifier\\keypoint_classifier.hdf5\n",
            "34/34 [==============================] - 0s 3ms/step - loss: 0.7251 - accuracy: 0.7336 - val_loss: 0.3721 - val_accuracy: 0.9317\n",
            "Epoch 141/1000\n",
            " 1/34 [..............................] - ETA: 0s - loss: 0.9022 - accuracy: 0.6953\n",
            "Epoch 141: saving model to model/keypoint_classifier\\keypoint_classifier.hdf5\n",
            "34/34 [==============================] - 0s 3ms/step - loss: 0.7250 - accuracy: 0.7299 - val_loss: 0.3707 - val_accuracy: 0.9297\n",
            "Epoch 142/1000\n",
            "21/34 [=================>............] - ETA: 0s - loss: 0.7223 - accuracy: 0.7485\n",
            "Epoch 142: saving model to model/keypoint_classifier\\keypoint_classifier.hdf5\n",
            "34/34 [==============================] - 0s 5ms/step - loss: 0.7149 - accuracy: 0.7455 - val_loss: 0.3732 - val_accuracy: 0.9234\n",
            "Epoch 143/1000\n",
            "33/34 [============================>.] - ETA: 0s - loss: 0.7128 - accuracy: 0.7330\n",
            "Epoch 143: saving model to model/keypoint_classifier\\keypoint_classifier.hdf5\n",
            "34/34 [==============================] - 0s 3ms/step - loss: 0.7153 - accuracy: 0.7317 - val_loss: 0.3702 - val_accuracy: 0.9276\n",
            "Epoch 144/1000\n",
            "30/34 [=========================>....] - ETA: 0s - loss: 0.7308 - accuracy: 0.7370\n",
            "Epoch 144: saving model to model/keypoint_classifier\\keypoint_classifier.hdf5\n",
            "34/34 [==============================] - 0s 3ms/step - loss: 0.7246 - accuracy: 0.7370 - val_loss: 0.3774 - val_accuracy: 0.9207\n",
            "Epoch 145/1000\n",
            "31/34 [==========================>...] - ETA: 0s - loss: 0.7427 - accuracy: 0.7276\n",
            "Epoch 145: saving model to model/keypoint_classifier\\keypoint_classifier.hdf5\n",
            "34/34 [==============================] - 0s 3ms/step - loss: 0.7348 - accuracy: 0.7297 - val_loss: 0.3736 - val_accuracy: 0.9338\n",
            "Epoch 146/1000\n",
            "34/34 [==============================] - ETA: 0s - loss: 0.7187 - accuracy: 0.7301\n",
            "Epoch 146: saving model to model/keypoint_classifier\\keypoint_classifier.hdf5\n",
            "34/34 [==============================] - 0s 3ms/step - loss: 0.7187 - accuracy: 0.7301 - val_loss: 0.3679 - val_accuracy: 0.9303\n",
            "Epoch 147/1000\n",
            " 1/34 [..............................] - ETA: 0s - loss: 0.7427 - accuracy: 0.7266\n",
            "Epoch 147: saving model to model/keypoint_classifier\\keypoint_classifier.hdf5\n",
            "34/34 [==============================] - 0s 3ms/step - loss: 0.7195 - accuracy: 0.7398 - val_loss: 0.3623 - val_accuracy: 0.9359\n",
            "Epoch 148/1000\n",
            "26/34 [=====================>........] - ETA: 0s - loss: 0.7102 - accuracy: 0.7407\n",
            "Epoch 148: saving model to model/keypoint_classifier\\keypoint_classifier.hdf5\n",
            "34/34 [==============================] - 0s 4ms/step - loss: 0.7097 - accuracy: 0.7446 - val_loss: 0.3670 - val_accuracy: 0.9310\n",
            "Epoch 149/1000\n",
            "32/34 [===========================>..] - ETA: 0s - loss: 0.7222 - accuracy: 0.7334\n",
            "Epoch 149: saving model to model/keypoint_classifier\\keypoint_classifier.hdf5\n",
            "34/34 [==============================] - 0s 3ms/step - loss: 0.7169 - accuracy: 0.7377 - val_loss: 0.3791 - val_accuracy: 0.9200\n",
            "Epoch 150/1000\n",
            " 1/34 [..............................] - ETA: 0s - loss: 0.6703 - accuracy: 0.7500\n",
            "Epoch 150: saving model to model/keypoint_classifier\\keypoint_classifier.hdf5\n",
            "34/34 [==============================] - 0s 3ms/step - loss: 0.7002 - accuracy: 0.7510 - val_loss: 0.3701 - val_accuracy: 0.9290\n",
            "Epoch 151/1000\n",
            " 1/34 [..............................] - ETA: 0s - loss: 0.7177 - accuracy: 0.7344\n",
            "Epoch 151: saving model to model/keypoint_classifier\\keypoint_classifier.hdf5\n",
            "34/34 [==============================] - 0s 3ms/step - loss: 0.7260 - accuracy: 0.7359 - val_loss: 0.3745 - val_accuracy: 0.9241\n",
            "Epoch 152/1000\n",
            " 1/34 [..............................] - ETA: 0s - loss: 0.7440 - accuracy: 0.7109\n",
            "Epoch 152: saving model to model/keypoint_classifier\\keypoint_classifier.hdf5\n",
            "34/34 [==============================] - 0s 3ms/step - loss: 0.6981 - accuracy: 0.7524 - val_loss: 0.3651 - val_accuracy: 0.9200\n",
            "Epoch 153/1000\n",
            " 1/34 [..............................] - ETA: 0s - loss: 0.7299 - accuracy: 0.7266\n",
            "Epoch 153: saving model to model/keypoint_classifier\\keypoint_classifier.hdf5\n",
            "34/34 [==============================] - 0s 3ms/step - loss: 0.7114 - accuracy: 0.7363 - val_loss: 0.3698 - val_accuracy: 0.9262\n",
            "Epoch 154/1000\n",
            " 1/34 [..............................] - ETA: 0s - loss: 0.7912 - accuracy: 0.7188\n",
            "Epoch 154: saving model to model/keypoint_classifier\\keypoint_classifier.hdf5\n",
            "34/34 [==============================] - 0s 3ms/step - loss: 0.7084 - accuracy: 0.7405 - val_loss: 0.3643 - val_accuracy: 0.9317\n",
            "Epoch 155/1000\n",
            " 1/34 [..............................] - ETA: 0s - loss: 0.7788 - accuracy: 0.7422\n",
            "Epoch 155: saving model to model/keypoint_classifier\\keypoint_classifier.hdf5\n",
            "34/34 [==============================] - 0s 3ms/step - loss: 0.7417 - accuracy: 0.7414 - val_loss: 0.3552 - val_accuracy: 0.9372\n",
            "Epoch 156/1000\n",
            " 1/34 [..............................] - ETA: 0s - loss: 0.6228 - accuracy: 0.7734\n",
            "Epoch 156: saving model to model/keypoint_classifier\\keypoint_classifier.hdf5\n",
            "34/34 [==============================] - 0s 3ms/step - loss: 0.7108 - accuracy: 0.7400 - val_loss: 0.3617 - val_accuracy: 0.9317\n",
            "Epoch 157/1000\n",
            " 1/34 [..............................] - ETA: 0s - loss: 0.8116 - accuracy: 0.6953\n",
            "Epoch 157: saving model to model/keypoint_classifier\\keypoint_classifier.hdf5\n",
            "34/34 [==============================] - 0s 3ms/step - loss: 0.7268 - accuracy: 0.7345 - val_loss: 0.3650 - val_accuracy: 0.9297\n",
            "Epoch 158/1000\n",
            " 1/34 [..............................] - ETA: 0s - loss: 1.0323 - accuracy: 0.6797\n",
            "Epoch 158: saving model to model/keypoint_classifier\\keypoint_classifier.hdf5\n",
            "34/34 [==============================] - 0s 3ms/step - loss: 0.7034 - accuracy: 0.7474 - val_loss: 0.3772 - val_accuracy: 0.9179\n",
            "Epoch 159/1000\n",
            " 1/34 [..............................] - ETA: 0s - loss: 0.6355 - accuracy: 0.7812\n",
            "Epoch 159: saving model to model/keypoint_classifier\\keypoint_classifier.hdf5\n",
            "34/34 [==============================] - 0s 3ms/step - loss: 0.7248 - accuracy: 0.7402 - val_loss: 0.3654 - val_accuracy: 0.9310\n",
            "Epoch 160/1000\n",
            " 1/34 [..............................] - ETA: 0s - loss: 0.6608 - accuracy: 0.7891\n",
            "Epoch 160: saving model to model/keypoint_classifier\\keypoint_classifier.hdf5\n",
            "34/34 [==============================] - 0s 3ms/step - loss: 0.7195 - accuracy: 0.7377 - val_loss: 0.3642 - val_accuracy: 0.9255\n",
            "Epoch 161/1000\n",
            " 1/34 [..............................] - ETA: 0s - loss: 0.7407 - accuracy: 0.7344\n",
            "Epoch 161: saving model to model/keypoint_classifier\\keypoint_classifier.hdf5\n",
            "34/34 [==============================] - 0s 3ms/step - loss: 0.7394 - accuracy: 0.7294 - val_loss: 0.3732 - val_accuracy: 0.9241\n",
            "Epoch 162/1000\n",
            " 1/34 [..............................] - ETA: 0s - loss: 0.6618 - accuracy: 0.7266\n",
            "Epoch 162: saving model to model/keypoint_classifier\\keypoint_classifier.hdf5\n",
            "34/34 [==============================] - 0s 3ms/step - loss: 0.7006 - accuracy: 0.7485 - val_loss: 0.3686 - val_accuracy: 0.9248\n",
            "Epoch 163/1000\n",
            " 1/34 [..............................] - ETA: 0s - loss: 0.7398 - accuracy: 0.7422\n",
            "Epoch 163: saving model to model/keypoint_classifier\\keypoint_classifier.hdf5\n",
            "34/34 [==============================] - 0s 3ms/step - loss: 0.7068 - accuracy: 0.7423 - val_loss: 0.3627 - val_accuracy: 0.9283\n",
            "Epoch 164/1000\n",
            " 1/34 [..............................] - ETA: 0s - loss: 0.6823 - accuracy: 0.7266\n",
            "Epoch 164: saving model to model/keypoint_classifier\\keypoint_classifier.hdf5\n",
            "34/34 [==============================] - 0s 3ms/step - loss: 0.6965 - accuracy: 0.7497 - val_loss: 0.3680 - val_accuracy: 0.9248\n",
            "Epoch 165/1000\n",
            "32/34 [===========================>..] - ETA: 0s - loss: 0.7250 - accuracy: 0.7380\n",
            "Epoch 165: saving model to model/keypoint_classifier\\keypoint_classifier.hdf5\n",
            "34/34 [==============================] - 0s 3ms/step - loss: 0.7233 - accuracy: 0.7391 - val_loss: 0.3785 - val_accuracy: 0.9234\n",
            "Epoch 166/1000\n",
            " 1/34 [..............................] - ETA: 0s - loss: 0.7140 - accuracy: 0.7344\n",
            "Epoch 166: saving model to model/keypoint_classifier\\keypoint_classifier.hdf5\n",
            "34/34 [==============================] - 0s 3ms/step - loss: 0.7166 - accuracy: 0.7372 - val_loss: 0.3611 - val_accuracy: 0.9310\n",
            "Epoch 167/1000\n",
            "31/34 [==========================>...] - ETA: 0s - loss: 0.6955 - accuracy: 0.7523\n",
            "Epoch 167: saving model to model/keypoint_classifier\\keypoint_classifier.hdf5\n",
            "34/34 [==============================] - 0s 3ms/step - loss: 0.6992 - accuracy: 0.7510 - val_loss: 0.3686 - val_accuracy: 0.9310\n",
            "Epoch 168/1000\n",
            " 1/34 [..............................] - ETA: 0s - loss: 0.6294 - accuracy: 0.7422\n",
            "Epoch 168: saving model to model/keypoint_classifier\\keypoint_classifier.hdf5\n",
            "34/34 [==============================] - 0s 3ms/step - loss: 0.7072 - accuracy: 0.7439 - val_loss: 0.3574 - val_accuracy: 0.9303\n",
            "Epoch 169/1000\n",
            " 1/34 [..............................] - ETA: 0s - loss: 0.6162 - accuracy: 0.7812\n",
            "Epoch 169: saving model to model/keypoint_classifier\\keypoint_classifier.hdf5\n",
            "34/34 [==============================] - 0s 3ms/step - loss: 0.7207 - accuracy: 0.7398 - val_loss: 0.3608 - val_accuracy: 0.9324\n",
            "Epoch 170/1000\n",
            " 1/34 [..............................] - ETA: 0s - loss: 0.6198 - accuracy: 0.7812\n",
            "Epoch 170: saving model to model/keypoint_classifier\\keypoint_classifier.hdf5\n",
            "34/34 [==============================] - 0s 3ms/step - loss: 0.7043 - accuracy: 0.7471 - val_loss: 0.3552 - val_accuracy: 0.9359\n",
            "Epoch 171/1000\n",
            " 1/34 [..............................] - ETA: 0s - loss: 0.5598 - accuracy: 0.8125\n",
            "Epoch 171: saving model to model/keypoint_classifier\\keypoint_classifier.hdf5\n",
            "34/34 [==============================] - 0s 3ms/step - loss: 0.7307 - accuracy: 0.7361 - val_loss: 0.3616 - val_accuracy: 0.9241\n",
            "Epoch 172/1000\n",
            "34/34 [==============================] - ETA: 0s - loss: 0.7293 - accuracy: 0.7407\n",
            "Epoch 172: saving model to model/keypoint_classifier\\keypoint_classifier.hdf5\n",
            "34/34 [==============================] - 0s 3ms/step - loss: 0.7293 - accuracy: 0.7407 - val_loss: 0.3704 - val_accuracy: 0.9269\n",
            "Epoch 173/1000\n",
            " 1/34 [..............................] - ETA: 0s - loss: 0.6579 - accuracy: 0.8125\n",
            "Epoch 173: saving model to model/keypoint_classifier\\keypoint_classifier.hdf5\n",
            "34/34 [==============================] - 0s 3ms/step - loss: 0.7254 - accuracy: 0.7483 - val_loss: 0.3646 - val_accuracy: 0.9262\n",
            "Epoch 174/1000\n",
            " 1/34 [..............................] - ETA: 0s - loss: 0.7631 - accuracy: 0.7266\n",
            "Epoch 174: saving model to model/keypoint_classifier\\keypoint_classifier.hdf5\n",
            "34/34 [==============================] - 0s 3ms/step - loss: 0.7142 - accuracy: 0.7352 - val_loss: 0.3635 - val_accuracy: 0.9303\n",
            "Epoch 175/1000\n",
            " 1/34 [..............................] - ETA: 0s - loss: 0.6067 - accuracy: 0.7734\n",
            "Epoch 175: saving model to model/keypoint_classifier\\keypoint_classifier.hdf5\n",
            "34/34 [==============================] - 0s 3ms/step - loss: 0.7172 - accuracy: 0.7361 - val_loss: 0.3524 - val_accuracy: 0.9372\n",
            "Epoch 176/1000\n",
            " 1/34 [..............................] - ETA: 0s - loss: 0.7292 - accuracy: 0.7656\n",
            "Epoch 176: saving model to model/keypoint_classifier\\keypoint_classifier.hdf5\n",
            "34/34 [==============================] - 0s 3ms/step - loss: 0.7131 - accuracy: 0.7370 - val_loss: 0.3726 - val_accuracy: 0.9262\n",
            "Epoch 177/1000\n",
            " 1/34 [..............................] - ETA: 0s - loss: 0.8191 - accuracy: 0.6875\n",
            "Epoch 177: saving model to model/keypoint_classifier\\keypoint_classifier.hdf5\n",
            "34/34 [==============================] - 0s 3ms/step - loss: 0.7200 - accuracy: 0.7368 - val_loss: 0.3614 - val_accuracy: 0.9324\n",
            "Epoch 178/1000\n",
            " 1/34 [..............................] - ETA: 0s - loss: 0.7448 - accuracy: 0.6797\n",
            "Epoch 178: saving model to model/keypoint_classifier\\keypoint_classifier.hdf5\n",
            "34/34 [==============================] - 0s 3ms/step - loss: 0.6975 - accuracy: 0.7451 - val_loss: 0.3645 - val_accuracy: 0.9297\n",
            "Epoch 179/1000\n",
            " 1/34 [..............................] - ETA: 0s - loss: 0.6759 - accuracy: 0.7656\n",
            "Epoch 179: saving model to model/keypoint_classifier\\keypoint_classifier.hdf5\n",
            "34/34 [==============================] - 0s 3ms/step - loss: 0.7149 - accuracy: 0.7421 - val_loss: 0.3659 - val_accuracy: 0.9276\n",
            "Epoch 180/1000\n",
            "34/34 [==============================] - ETA: 0s - loss: 0.7100 - accuracy: 0.7471\n",
            "Epoch 180: saving model to model/keypoint_classifier\\keypoint_classifier.hdf5\n",
            "34/34 [==============================] - 0s 3ms/step - loss: 0.7100 - accuracy: 0.7471 - val_loss: 0.3650 - val_accuracy: 0.9234\n",
            "Epoch 181/1000\n",
            " 1/34 [..............................] - ETA: 0s - loss: 0.7441 - accuracy: 0.7266\n",
            "Epoch 181: saving model to model/keypoint_classifier\\keypoint_classifier.hdf5\n",
            "34/34 [==============================] - 0s 3ms/step - loss: 0.7070 - accuracy: 0.7375 - val_loss: 0.3589 - val_accuracy: 0.9338\n",
            "Epoch 182/1000\n",
            " 1/34 [..............................] - ETA: 0s - loss: 0.8009 - accuracy: 0.7266\n",
            "Epoch 182: saving model to model/keypoint_classifier\\keypoint_classifier.hdf5\n",
            "34/34 [==============================] - 0s 3ms/step - loss: 0.7402 - accuracy: 0.7303 - val_loss: 0.3550 - val_accuracy: 0.9331\n",
            "Epoch 183/1000\n",
            "31/34 [==========================>...] - ETA: 0s - loss: 0.7189 - accuracy: 0.7432\n",
            "Epoch 183: saving model to model/keypoint_classifier\\keypoint_classifier.hdf5\n",
            "34/34 [==============================] - 0s 3ms/step - loss: 0.7217 - accuracy: 0.7395 - val_loss: 0.3598 - val_accuracy: 0.9317\n",
            "Epoch 184/1000\n",
            " 1/34 [..............................] - ETA: 0s - loss: 0.8096 - accuracy: 0.6562\n",
            "Epoch 184: saving model to model/keypoint_classifier\\keypoint_classifier.hdf5\n",
            "34/34 [==============================] - 0s 3ms/step - loss: 0.7243 - accuracy: 0.7391 - val_loss: 0.3606 - val_accuracy: 0.9221\n",
            "Epoch 185/1000\n",
            " 1/34 [..............................] - ETA: 0s - loss: 0.6524 - accuracy: 0.7578\n",
            "Epoch 185: saving model to model/keypoint_classifier\\keypoint_classifier.hdf5\n",
            "34/34 [==============================] - 0s 3ms/step - loss: 0.7193 - accuracy: 0.7363 - val_loss: 0.3590 - val_accuracy: 0.9331\n",
            "Epoch 186/1000\n",
            " 1/34 [..............................] - ETA: 0s - loss: 0.6676 - accuracy: 0.7812\n",
            "Epoch 186: saving model to model/keypoint_classifier\\keypoint_classifier.hdf5\n",
            "34/34 [==============================] - 0s 3ms/step - loss: 0.6969 - accuracy: 0.7513 - val_loss: 0.3669 - val_accuracy: 0.9269\n",
            "Epoch 187/1000\n",
            " 1/34 [..............................] - ETA: 0s - loss: 0.6491 - accuracy: 0.7500\n",
            "Epoch 187: saving model to model/keypoint_classifier\\keypoint_classifier.hdf5\n",
            "34/34 [==============================] - 0s 3ms/step - loss: 0.7092 - accuracy: 0.7428 - val_loss: 0.3616 - val_accuracy: 0.9248\n",
            "Epoch 188/1000\n",
            "33/34 [============================>.] - ETA: 0s - loss: 0.7164 - accuracy: 0.7405\n",
            "Epoch 188: saving model to model/keypoint_classifier\\keypoint_classifier.hdf5\n",
            "34/34 [==============================] - 0s 3ms/step - loss: 0.7180 - accuracy: 0.7398 - val_loss: 0.3585 - val_accuracy: 0.9331\n",
            "Epoch 189/1000\n",
            "31/34 [==========================>...] - ETA: 0s - loss: 0.7223 - accuracy: 0.7462\n",
            "Epoch 189: saving model to model/keypoint_classifier\\keypoint_classifier.hdf5\n",
            "34/34 [==============================] - 0s 3ms/step - loss: 0.7153 - accuracy: 0.7490 - val_loss: 0.3622 - val_accuracy: 0.9310\n",
            "Epoch 190/1000\n",
            "33/34 [============================>.] - ETA: 0s - loss: 0.7125 - accuracy: 0.7436\n",
            "Epoch 190: saving model to model/keypoint_classifier\\keypoint_classifier.hdf5\n",
            "34/34 [==============================] - 0s 3ms/step - loss: 0.7098 - accuracy: 0.7439 - val_loss: 0.3542 - val_accuracy: 0.9317\n",
            "Epoch 191/1000\n",
            " 1/34 [..............................] - ETA: 0s - loss: 0.7597 - accuracy: 0.7422\n",
            "Epoch 191: saving model to model/keypoint_classifier\\keypoint_classifier.hdf5\n",
            "34/34 [==============================] - 0s 3ms/step - loss: 0.7077 - accuracy: 0.7490 - val_loss: 0.3614 - val_accuracy: 0.9366\n",
            "Epoch 192/1000\n",
            "30/34 [=========================>....] - ETA: 0s - loss: 0.7132 - accuracy: 0.7422\n",
            "Epoch 192: saving model to model/keypoint_classifier\\keypoint_classifier.hdf5\n",
            "34/34 [==============================] - 0s 4ms/step - loss: 0.7131 - accuracy: 0.7414 - val_loss: 0.3620 - val_accuracy: 0.9269\n",
            "Epoch 193/1000\n",
            " 1/34 [..............................] - ETA: 0s - loss: 0.8011 - accuracy: 0.7500\n",
            "Epoch 193: saving model to model/keypoint_classifier\\keypoint_classifier.hdf5\n",
            "34/34 [==============================] - 0s 3ms/step - loss: 0.6975 - accuracy: 0.7552 - val_loss: 0.3583 - val_accuracy: 0.9310\n",
            "Epoch 194/1000\n",
            "33/34 [============================>.] - ETA: 0s - loss: 0.7113 - accuracy: 0.7476\n",
            "Epoch 194: saving model to model/keypoint_classifier\\keypoint_classifier.hdf5\n",
            "34/34 [==============================] - 0s 3ms/step - loss: 0.7097 - accuracy: 0.7480 - val_loss: 0.3636 - val_accuracy: 0.9283\n",
            "Epoch 195/1000\n",
            " 1/34 [..............................] - ETA: 0s - loss: 0.6943 - accuracy: 0.7656\n",
            "Epoch 195: saving model to model/keypoint_classifier\\keypoint_classifier.hdf5\n",
            "34/34 [==============================] - 0s 3ms/step - loss: 0.7088 - accuracy: 0.7432 - val_loss: 0.3601 - val_accuracy: 0.9359\n",
            "Epoch 195: early stopping\n"
          ]
        },
        {
          "data": {
            "text/plain": [
              "<keras.callbacks.History at 0x1db71b927c0>"
            ]
          },
          "execution_count": 33,
          "metadata": {},
          "output_type": "execute_result"
        }
      ],
      "source": [
        "model.fit(\n",
        "    X_train,\n",
        "    y_train,\n",
        "    epochs=1000,\n",
        "    batch_size=128,\n",
        "    validation_data=(X_test, y_test),\n",
        "    callbacks=[cp_callback, es_callback]\n",
        ")"
      ]
    },
    {
      "cell_type": "code",
      "execution_count": 34,
      "metadata": {
        "colab": {
          "base_uri": "https://localhost:8080/"
        },
        "id": "pxvb2Y299hE3",
        "outputId": "59eb3185-2e37-4b9e-bc9d-ab1b8ac29b7f"
      },
      "outputs": [
        {
          "name": "stdout",
          "output_type": "stream",
          "text": [
            "12/12 [==============================] - 0s 2ms/step - loss: 0.3601 - accuracy: 0.9359\n"
          ]
        }
      ],
      "source": [
        "# Model evaluation\n",
        "val_loss, val_acc = model.evaluate(X_test, y_test, batch_size=128)"
      ]
    },
    {
      "cell_type": "code",
      "execution_count": 35,
      "metadata": {
        "id": "RBkmDeUW9hE4"
      },
      "outputs": [],
      "source": [
        "# Loading the saved model\n",
        "model = tf.keras.models.load_model(model_save_path)"
      ]
    },
    {
      "cell_type": "code",
      "execution_count": 36,
      "metadata": {
        "colab": {
          "base_uri": "https://localhost:8080/"
        },
        "id": "tFz9Tb0I9hE4",
        "outputId": "1c3b3528-54ae-4ee2-ab04-77429211cbef"
      },
      "outputs": [
        {
          "name": "stdout",
          "output_type": "stream",
          "text": [
            "1/1 [==============================] - 0s 75ms/step\n",
            "[3.3255932e-01 3.7901916e-02 2.0159749e-05 5.7506460e-01 7.1952712e-08\n",
            " 1.0125596e-03 5.3441361e-02]\n",
            "3\n"
          ]
        }
      ],
      "source": [
        "# Inference test\n",
        "predict_result = model.predict(np.array([X_test[0]]))\n",
        "print(np.squeeze(predict_result))\n",
        "print(np.argmax(np.squeeze(predict_result)))"
      ]
    },
    {
      "attachments": {},
      "cell_type": "markdown",
      "metadata": {
        "id": "S3U4yNWx9hE4"
      },
      "source": [
        "# Confusion matrix"
      ]
    },
    {
      "cell_type": "code",
      "execution_count": 37,
      "metadata": {
        "colab": {
          "base_uri": "https://localhost:8080/",
          "height": 582
        },
        "id": "AP1V6SCk9hE5",
        "outputId": "08e41a80-7a4a-4619-8125-ecc371368d19"
      },
      "outputs": [
        {
          "name": "stdout",
          "output_type": "stream",
          "text": [
            "46/46 [==============================] - 0s 790us/step\n"
          ]
        },
        {
          "data": {
            "image/png": "[encoded data removed]",
            "text/plain": [
              "<Figure size 700x600 with 2 Axes>"
            ]
          },
          "metadata": {},
          "output_type": "display_data"
        },
        {
          "name": "stdout",
          "output_type": "stream",
          "text": [
            "Classification Report\n",
            "              precision    recall  f1-score   support\n",
            "\n",
            "           0       0.93      0.99      0.96       443\n",
            "           1       0.99      0.91      0.95       380\n",
            "           2       0.87      0.96      0.91       331\n",
            "           3       1.00      0.92      0.96       103\n",
            "           4       0.91      0.98      0.94        49\n",
            "           5       0.97      0.86      0.91        80\n",
            "           6       1.00      0.67      0.80        64\n",
            "\n",
            "    accuracy                           0.94      1450\n",
            "   macro avg       0.95      0.90      0.92      1450\n",
            "weighted avg       0.94      0.94      0.94      1450\n",
            "\n"
          ]
        }
      ],
      "source": [
        "import pandas as pd\n",
        "import seaborn as sns\n",
        "import matplotlib.pyplot as plt\n",
        "from sklearn.metrics import confusion_matrix, classification_report\n",
        "\n",
        "def print_confusion_matrix(y_true, y_pred, report=True):\n",
        "    labels = sorted(list(set(y_true)))\n",
        "    cmx_data = confusion_matrix(y_true, y_pred, labels=labels)\n",
        "    \n",
        "    df_cmx = pd.DataFrame(cmx_data, index=labels, columns=labels)\n",
        " \n",
        "    fig, ax = plt.subplots(figsize=(7, 6))\n",
        "    sns.heatmap(df_cmx, annot=True, fmt='g' ,square=False)\n",
        "    ax.set_ylim(len(set(y_true)), 0)\n",
        "    plt.show()\n",
        "    \n",
        "    if report:\n",
        "        print('Classification Report')\n",
        "        print(classification_report(y_test, y_pred))\n",
        "\n",
        "Y_pred = model.predict(X_test)\n",
        "y_pred = np.argmax(Y_pred, axis=1)\n",
        "\n",
        "print_confusion_matrix(y_test, y_pred)"
      ]
    },
    {
      "attachments": {},
      "cell_type": "markdown",
      "metadata": {
        "id": "FNP6aqzc9hE5"
      },
      "source": [
        "# Convert to model for Tensorflow-Lite"
      ]
    },
    {
      "cell_type": "code",
      "execution_count": 38,
      "metadata": {
        "id": "ODjnYyld9hE6"
      },
      "outputs": [],
      "source": [
        "# Save as a model dedicated to inference\n",
        "model.save(model_save_path, include_optimizer=False)"
      ]
    },
    {
      "cell_type": "code",
      "execution_count": 39,
      "metadata": {
        "colab": {
          "base_uri": "https://localhost:8080/"
        },
        "id": "zRfuK8Y59hE6",
        "outputId": "a4ca585c-b5d5-4244-8291-8674063209bb"
      },
      "outputs": [
        {
          "name": "stderr",
          "output_type": "stream",
          "text": [
            "WARNING:absl:Found untraced functions such as _update_step_xla while saving (showing 1 of 1). These functions will not be directly callable after loading.\n"
          ]
        },
        {
          "name": "stdout",
          "output_type": "stream",
          "text": [
            "INFO:tensorflow:Assets written to: C:\\Users\\ibrah\\AppData\\Local\\Temp\\tmp77am8kos\\assets\n"
          ]
        },
        {
          "name": "stderr",
          "output_type": "stream",
          "text": [
            "INFO:tensorflow:Assets written to: C:\\Users\\ibrah\\AppData\\Local\\Temp\\tmp77am8kos\\assets\n"
          ]
        },
        {
          "data": {
            "text/plain": [
              "6704"
            ]
          },
          "execution_count": 39,
          "metadata": {},
          "output_type": "execute_result"
        }
      ],
      "source": [
        "# Transform model (quantization)\n",
        "\n",
        "converter = tf.lite.TFLiteConverter.from_keras_model(model)\n",
        "converter.optimizations = [tf.lite.Optimize.DEFAULT]\n",
        "tflite_quantized_model = converter.convert()\n",
        "\n",
        "open(tflite_save_path, 'wb').write(tflite_quantized_model)"
      ]
    },
    {
      "attachments": {},
      "cell_type": "markdown",
      "metadata": {
        "id": "CHBPBXdx9hE6"
      },
      "source": [
        "# Inference test"
      ]
    },
    {
      "cell_type": "code",
      "execution_count": 40,
      "metadata": {
        "id": "mGAzLocO9hE7"
      },
      "outputs": [],
      "source": [
        "interpreter = tf.lite.Interpreter(model_path=tflite_save_path)\n",
        "interpreter.allocate_tensors()"
      ]
    },
    {
      "cell_type": "code",
      "execution_count": 41,
      "metadata": {
        "id": "oQuDK8YS9hE7"
      },
      "outputs": [],
      "source": [
        "# Get I / O tensor\n",
        "input_details = interpreter.get_input_details()\n",
        "output_details = interpreter.get_output_details()"
      ]
    },
    {
      "cell_type": "code",
      "execution_count": 42,
      "metadata": {
        "id": "2_ixAf_l9hE7"
      },
      "outputs": [],
      "source": [
        "interpreter.set_tensor(input_details[0]['index'], np.array([X_test[0]]))"
      ]
    },
    {
      "cell_type": "code",
      "execution_count": 43,
      "metadata": {
        "colab": {
          "base_uri": "https://localhost:8080/"
        },
        "id": "s4FoAnuc9hE7",
        "outputId": "91f18257-8d8b-4ef3-c558-e9b5f94fabbf",
        "scrolled": true
      },
      "outputs": [
        {
          "name": "stdout",
          "output_type": "stream",
          "text": [
            "CPU times: total: 0 ns\n",
            "Wall time: 0 ns\n"
          ]
        }
      ],
      "source": [
        "%%time\n",
        "# Inference implementation\n",
        "interpreter.invoke()\n",
        "tflite_results = interpreter.get_tensor(output_details[0]['index'])"
      ]
    },
    {
      "cell_type": "code",
      "execution_count": 44,
      "metadata": {
        "colab": {
          "base_uri": "https://localhost:8080/"
        },
        "id": "vONjp19J9hE8",
        "outputId": "77205e24-fd00-42c4-f7b6-e06e527c2cba"
      },
      "outputs": [
        {
          "name": "stdout",
          "output_type": "stream",
          "text": [
            "[3.3255932e-01 3.7901878e-02 2.0159690e-05 5.7506466e-01 7.1952442e-08\n",
            " 1.0125582e-03 5.3441368e-02]\n",
            "3\n"
          ]
        }
      ],
      "source": [
        "print(np.squeeze(tflite_results))\n",
        "print(np.argmax(np.squeeze(tflite_results)))"
      ]
    }
  ],
  "metadata": {
    "accelerator": "GPU",
    "colab": {
      "collapsed_sections": [],
      "name": "keypoint_classification_EN.ipynb",
      "provenance": [],
      "toc_visible": true
    },
    "kernelspec": {
      "display_name": "Python 3",
      "language": "python",
      "name": "python3"
    },
    "language_info": {
      "codemirror_mode": {
        "name": "ipython",
        "version": 3
      },
      "file_extension": ".py",
      "mimetype": "text/x-python",
      "name": "python",
      "nbconvert_exporter": "python",
      "pygments_lexer": "ipython3",
      "version": "3.9.7"
    },
    "vscode": {
      "interpreter": {
        "hash": "efaef67c006f8b7558aacf5b1910150ef68c51746f372b9c7de4d79e79511171"
      }
    }
  },
  "nbformat": 4,
  "nbformat_minor": 0
}
